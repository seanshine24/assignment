{
 "cells": [
  {
   "cell_type": "markdown",
   "id": "3158bec3-a0ac-467f-949f-fb16a8de6343",
   "metadata": {},
   "source": [
    "## 소수가 되는 경우의 개수 \n",
    "\n",
    "### 설명 \n",
    "주어진 숫자 중 3개의 수를 더할 때 소수가 되는 경우의 개수를 구하려고 한다.   \n",
    "숫자들이 들어있는 배열 nums가 매개변수로 주어질 때,   \n",
    "nums에 있는 숫자들 중 서로 다른 3개를 골라 더할 때 소수가 되는 경우의 갯수를 return하는 solution 함수이다.   \n",
    "\n",
    "##### 제한 사항\n",
    "nums에 들어있는 숫자의 개수는 3개 이상 50개 이하입니다.\n",
    "nums의 각 원소는 1 이상 1,000 이하의 자연수이며, 중복된 숫자가 들어있지 않습니다.\n",
    "\n",
    "[프로그래머스](https://school.programmers.co.kr/learn/courses/30/lessons/129770\n",
    "\n",
    "### 코드"
   ]
  },
  {
   "cell_type": "code",
   "execution_count": 1,
   "id": "108cd336-b2a4-42f2-a02e-5de7fe25645d",
   "metadata": {},
   "outputs": [
    {
     "name": "stdout",
     "output_type": "stream",
     "text": [
      "1\n",
      "4\n"
     ]
    }
   ],
   "source": [
    "# 주어진 리스트에서 세 개의 숫자를 선택해 그 합이 소수인 경우의 갯수를 찾는 함수\n",
    "\n",
    "from itertools import combinations\n",
    "\n",
    "# is_prime 함수는 입력 숫자가 소수인지를 판별한다. /\n",
    "# 주어진 숫자가 2보다 작으면 fasle를 반환하고 그렇지 않으면 2부터 해당숫자의 제곱근까지 모든 수에 대해 나누어지는 지확인하여 소수 판별\n",
    "def is_prime(num) :\n",
    "  if num < 2:\n",
    "    return False\n",
    "  for i in range(2, int((num**0.5)+1)) :\n",
    "      if num % i == 0 :\n",
    "        return False\n",
    "  return True\n",
    "\n",
    "# soulution 함수는 모듈 itertools의 combinations 함수를 사용하여 리스트에서 세 개의 숫자를 사용하여 가능한 조합을 만든다. \n",
    "# 각 조합에 대하여 is_prime함수가 소수인지를 판별하고 소수인 경우 answer 변수를 1증가시켜 개수를 더햊\n",
    "olution 함수는 itertools 모듈의 combinations 함수를 사용하여 리스트에서 세 개의 숫자로 가능한 모든 조합을 만들고, \n",
    "각 조합에 대해 is_prime 함수를 이용하여 소수인지를 확인합니다. 소수인 경우에는 answer 변수를 1 증가시킵니다. 마지막으로 answer 값을 반환합니다.\n",
    "def solution(nums) :\n",
    "    answer = 0\n",
    "    for j in combinations(nums,\n",
    "        if is_prime(sum(j)) :\n",
    "            answer += 1\n",
    "    return answer\n",
    "\n",
    "print(solution([1,2,3,4]))\n",
    "print(solution([1,2,7,6,4]))\n"
   ]
  },
  {
   "cell_type": "code",
   "execution_count": null,
   "id": "a9e743c5-c59f-4cf6-9c8e-35a067e879ad",
   "metadata": {},
   "outputs": [],
   "source": []
  }
 ],
 "metadata": {
  "kernelspec": {
   "display_name": "Python 3 (ipykernel)",
   "language": "python",
   "name": "python3"
  },
  "language_info": {
   "codemirror_mode": {
    "name": "ipython",
    "version": 3
   },
   "file_extension": ".py",
   "mimetype": "text/x-python",
   "name": "python",
   "nbconvert_exporter": "python",
   "pygments_lexer": "ipython3",
   "version": "3.12.2"
  }
 },
 "nbformat": 4,
 "nbformat_minor": 5
}
