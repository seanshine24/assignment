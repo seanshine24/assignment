{
 "cells": [
  {
   "cell_type": "markdown",
   "id": "d6323def-ac2a-4143-a8d5-563876152c15",
   "metadata": {},
   "source": [
    "## 나누기 전용 계산기 (예외 처리)\n",
    "\n",
    "프로그램에서 여러 에러 상황이 발생하는 경우 예외 처리를 구현하는 파이썬 코드입니다. \n",
    "\n",
    "### 설명\n",
    "- 두 개의 정수 입력 받아서 나눗셈 하는 파이썬 코드입니다. \n",
    "- 입력 오류, 계산 오류에 대한 예외처리를 구현합니다. \n",
    "- 에러가 없는 경우, 나눗셈 결과를 출력합니다. \n",
    "- 계산이 완료되면 항상 \"calculation complete\" 메시지를 출력합니다.\n",
    "\n",
    "### 코드"
   ]
  },
  {
   "cell_type": "code",
   "execution_count": 1,
   "id": "27506dc9-1b64-4705-ae19-96668d8e6f5b",
   "metadata": {},
   "outputs": [
    {
     "name": "stdin",
     "output_type": "stream",
     "text": [
      "숫자 두개를 입력해주세요:  10 4\n"
     ]
    },
    {
     "name": "stdout",
     "output_type": "stream",
     "text": [
      "10 / 4 = 2.5\n",
      "calculation complete\n"
     ]
    }
   ],
   "source": [
    "try:\n",
    "    # 두 수를 입력받는다.\n",
    "    a, b = map(int, input(\"숫자 두개를 입력해주세요: \").split())\n",
    "    # 나누기를 수행한다.\n",
    "    c = a / b\n",
    "\n",
    "# 값이 잘못되어 발생하는 에러에 대한 예외처리\n",
    "# (예: 입력한 수가 정수가 아닌 경우, 입력한 수 갯수가 2개가 아닌 경우 등)\n",
    "except ValueError:\n",
    "    print(\"입력한 숫자를 확인해주세요.\")\n",
    "\n",
    "# 0으로 나눌 경우 발생하는 에러에 대해 예외처리\n",
    "except ZeroDivisionError:\n",
    "    print(\"0으로 나눌 수 없습니다.\")\n",
    "\n",
    "# 에러가 발생하지 않을 경우 print문(나누기 한 결과)을 실행\n",
    "else:\n",
    "    print(f'{a} / {b} = {c}')\n",
    "\n",
    "# 에러 발생여부와 상관없이 항상 출력\n",
    "finally:\n",
    "    print(\"calculation complete\") "
   ]
  },
  {
   "cell_type": "code",
   "execution_count": null,
   "id": "8890766c-9150-4596-9b1c-61956bab1112",
   "metadata": {},
   "outputs": [],
   "source": []
  }
 ],
 "metadata": {
  "kernelspec": {
   "display_name": "Python 3 (ipykernel)",
   "language": "python",
   "name": "python3"
  },
  "language_info": {
   "codemirror_mode": {
    "name": "ipython",
    "version": 3
   },
   "file_extension": ".py",
   "mimetype": "text/x-python",
   "name": "python",
   "nbconvert_exporter": "python",
   "pygments_lexer": "ipython3",
   "version": "3.12.2"
  }
 },
 "nbformat": 4,
 "nbformat_minor": 5
}
