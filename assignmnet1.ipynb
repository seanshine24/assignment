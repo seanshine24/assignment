{
 "cells": [
  {
   "cell_type": "markdown",
   "id": "c560f710-1483-4a10-9e83-9d2d903ac9d5",
   "metadata": {},
   "source": [
    "## 소수가 되는 경우의 개수 \n",
    "\n",
    "### 설명 \n",
    "주어진 숫자 중 3개의 수를 더할 때 소수가 되는 경우의 개수를 구하려고 한다.   \n",
    "숫자들이 들어있는 배열 nums가 매개변수로 주어질 때,   \n",
    "nums에 있는 숫자들 중 서로 다른 3개를 골라 더할 때 소수가 되는 경우의 갯수를 return하는 solution 함수이다.   \n",
    "\n",
    "##### 제한 사항\n",
    "nums에 들어있는 숫자의 개수는 3개 이상 50개 이하입니다.\n",
    "nums의 각 원소는 1 이상 1,000 이하의 자연수이며, 중복된 숫자가 들어있지 않습니다.\n",
    "\n",
    "[프로그래머스](https://school.programmers.co.kr/learn/courses/30/lessons/129770\n",
    "\n",
    "### 코드"
   ]
  },
  {
   "cell_type": "code",
   "execution_count": 2,
   "id": "872857d8-41f1-451b-8868-bee5c84884bf",
   "metadata": {},
   "outputs": [
    {
     "ename": "SyntaxError",
     "evalue": "invalid syntax (709796995.py, line 17)",
     "output_type": "error",
     "traceback": [
      "\u001b[1;36m  Cell \u001b[1;32mIn[2], line 17\u001b[1;36m\u001b[0m\n\u001b[1;33m    ef solution(nums) :\u001b[0m\n\u001b[1;37m       ^\u001b[0m\n\u001b[1;31mSyntaxError\u001b[0m\u001b[1;31m:\u001b[0m invalid syntax\n"
     ]
    }
   ],
   "source": [
    "# 주어진 리스트에서 세 개의 숫자를 선택해 그 합이 소수인 경우의 갯수를 찾는 함수\n",
    "\n",
    "from itertools import combinations\n",
    "\n",
    "# is_prime 함수는 입력 숫자가 소수인지를 판별한다. \n",
    "# 주어진 숫자가 2보다 작으면 fasle를 반환하고 그렇지 않으면 2부터 해당숫자의 제곱근까지 모든 수에 대해 나누어지는 지확인하여 소수 판별\n",
    "def is_prime(num) :\n",
    "    if num < 2:\n",
    "        return False\n",
    "    for i in range(2, int((num**0.5)+1)) :\n",
    "        if num % i == 0 :\n",
    "            return False\n",
    "  return True\n",
    "\n",
    "# soulution 함수는 모듈 itertools의 combinations 함수를 사용하여 리스트에서 세 개의 숫자를 사용하여 가능한 조합을 만든다. \n",
    "# 각 조합에 대하여 is_prime함수가 소수인지를 판별하고 소수인 경우 answer 변수를 1증가시켜 개수를 증가시킨다. \n",
    "def solution(nums) :\n",
    "    answer = 0\n",
    "    for j in combinations(nums,3) :\n",
    "        if is_prime(sum(j)) :\n",
    "            answer += 1\n",
    "    return answer\n",
    "\n",
    "print(solution([1,2,3,4]))\n",
    "print(solution([1,2,7,6,4]))"
   ]
  },
  {
   "cell_type": "code",
   "execution_count": null,
   "id": "db19a961-181d-4586-87ec-6c80f9f89e19",
   "metadata": {},
   "outputs": [],
   "source": []
  }
 ],
 "metadata": {
  "kernelspec": {
   "display_name": "Python 3 (ipykernel)",
   "language": "python",
   "name": "python3"
  },
  "language_info": {
   "codemirror_mode": {
    "name": "ipython",
    "version": 3
   },
   "file_extension": ".py",
   "mimetype": "text/x-python",
   "name": "python",
   "nbconvert_exporter": "python",
   "pygments_lexer": "ipython3",
   "version": "3.12.2"
  }
 },
 "nbformat": 4,
 "nbformat_minor": 5
}
