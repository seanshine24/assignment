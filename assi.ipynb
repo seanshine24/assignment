{
 "cells": [
  {
   "cell_type": "markdown",
   "id": "0fb94afb",
   "metadata": {},
   "source": [
    "### 소수가 되는 경우의 개수 \n",
    "[프로그래머스] https://school.programmers.co.kr/learn/courses/30/lessons/12977\n",
    "\n",
    "from itertools import combinations    \n",
    "> 소수 인지를 판별하는 함수\n",
    "\n",
    "def is_prime(num) :  \n",
    "  if num < 2:  \n",
    "    return False  \n",
    "  for i in range(2, int((num**0.5)+1)) :  \n",
    "      if num % i == 0 :   \n",
    "        return False  \n",
    "  return True   \n",
    "  \n",
    "> 주어진 숫자에서 3개 선택 후 더한 값이 소수인 경우의 갯수\n",
    "                    \n",
    "def solution(nums) :  \n",
    "    answer = 0  \n",
    "    for j in combinations(nums,3) :  \n",
    "        if is_prime(sum(j)) :  \n",
    "            answer += 1      \n",
    "    return answer  \n",
    "    \n",
    "> 출력 예시\n",
    "\n",
    "print(solution[1,2,3,4])  \n",
    "print(solution([1,2,7,6,4]))  "
   ]
  },
  {
   "cell_type": "code",
   "execution_count": null,
   "id": "6976f156",
   "metadata": {},
   "outputs": [],
   "source": []
  }
 ],
 "metadata": {
  "kernelspec": {
   "display_name": "Python 3",
   "language": "python",
   "name": "python3"
  },
  "language_info": {
   "codemirror_mode": {
    "name": "ipython",
    "version": 3
   },
   "file_extension": ".py",
   "mimetype": "text/x-python",
   "name": "python",
   "nbconvert_exporter": "python",
   "pygments_lexer": "ipython3",
   "version": "3.8.8"
  }
 },
 "nbformat": 4,
 "nbformat_minor": 5
}
