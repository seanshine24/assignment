{
 "cells": [
  {
   "cell_type": "markdown",
   "id": "7f5e3bf1-b935-42ab-935f-bde6c22f06b7",
   "metadata": {},
   "source": [
    "## 1. 암스트롱 수 구하기  \n",
    "\n",
    "#### 문제 \n",
    "암스트롱 수란 세 자리의 정수 중에서 각 자리의 수를 세제곱한 수의 합과 자기 자신이 같은 수이다.    \n",
    "세 자리의 정수들 중에서 모든 암스트롱 수를 구하여 출력하는 python code를 작성해보자.   \n",
    "\n",
    "#### ex) \n",
    "153 = 1(1의 세제곱) + 125(5의 세제곱) + 27(3의 세제곱)\n",
    "\n",
    "### Python code\n"
   ]
  },
  {
   "cell_type": "code",
   "execution_count": 14,
   "id": "8c123d13-aa64-45e2-9e02-7400de4e517b",
   "metadata": {},
   "outputs": [
    {
     "name": "stdout",
     "output_type": "stream",
     "text": [
      "[153, 370, 371, 407]\n"
     ]
    }
   ],
   "source": [
    "# 빈 리스트 생성 \n",
    "list_ = []\n",
    "\n",
    "for n in range(100, 1000) :   # 100~999까지 범위 설정 \n",
    "  n_str = str(n)   # 숫자는 인덱싱 할 수 없으므로 문자열로 변경\n",
    "    # 문자열은 세제곱 계산이 불가하므로 각 문자열 자리수를 정수로 변환 후 계\n",
    "  if (int(n_str[0])**3 + int(n_str[1])**3 + int(n_str[2])**3) == n : \n",
    "    list_.append(n)   # if 조건문에서 만족하는 n을 list에 추가 \n",
    "\n",
    "print(list_)"
   ]
  },
  {
   "cell_type": "markdown",
   "id": "e70b63a1-81d0-4e00-855b-a736f3a8cf9c",
   "metadata": {},
   "source": [
    "## 2. 재정렬 리스트 구하기 \n",
    "\n",
    "#### 문제 \n",
    "아래와 같은 numbers 리스트가 있다.     \n",
    "numbers = [5, 2, 8, 1, 9, 3, 7, 4, 6]  \n",
    "내장함수 sorted()와 method sort()를 사용하지 않고 numbers 리스트를 아래와 같이 오름차순으로 정렬하는 코드를 작성해보자.  \n",
    "numbers = [1, 2, 3, 4, 5, 6, 7, 8, 9]    \n",
    "\n",
    "\n",
    "[참고 페이지(python.org)](https://docs.python.org/ko/3/howto/sorting.html)\n",
    "\n",
    "### Python code\n"
   ]
  },
  {
   "cell_type": "code",
   "execution_count": 15,
   "id": "c944db03-d4f6-48bd-982d-977ec877c9a4",
   "metadata": {},
   "outputs": [
    {
     "name": "stdout",
     "output_type": "stream",
     "text": [
      "재정렬 리스트: [1, 2, 3, 4, 5, 6, 7, 8, 9]\n"
     ]
    }
   ],
   "source": [
    "numbers = [5, 2, 8, 1, 9, 3, 7, 4, 6]\n",
    "\n",
    "sorted_num = []   # 빈 리스트 생성\n",
    "\n",
    "# 리스트 안의 수가 없어 질 때까지 반복 (리스트에숫자가 있는 동안 계속해서 반복)\n",
    "while numbers :   \n",
    "  mini = numbers[0]   # 리스트 안 첫번째 수를 임의로 지정\n",
    "  for num in numbers :  \n",
    "    if num < mini :   \n",
    "      mini = num   # 반복문을 수행하며 num가 mimi보다 작을 경우 mini에 num 대입 \n",
    "  sorted_num.append(mini)   # 반복문 수행 후 제일 작은 수 리스트에 추가\n",
    "    # 원래의 리스트에서 해당 제일 작은 수 제거 (반복할 때 같은 값을 다시 선택하지 않도록 한다.)\n",
    "  numbers.remove(mini)   \n",
    "print(\"재정렬 리스트:\", sorted_num)"
   ]
  },
  {
   "cell_type": "markdown",
   "id": "e8a98472-fc47-4d01-a9ca-b45198efded7",
   "metadata": {},
   "source": [
    "## 3. 완전수 구하기 \n",
    "\n",
    "#### 문제 \n",
    "완전수란 자기 자신을 제외한 모든 양의 약수들의 합이 자기 자신이 되는 자연수이다.   \n",
    "입력으로 자연수 n을 받고, 출력으로 n 이하의 모든 완전수를 출력하는 코드를 작성해보자. \n",
    "\n",
    "#### ex) \n",
    "6 = 1 + 2 + 2 (6의 약수 : 1,2,3,6)  \n",
    "자기 자신을 제외한 1,2,3 합이 6 자기 자신과 같은 완전수    \n",
    "28 = 1 + 2 + 4 + 7 + 14 (28의 약수 : 1,2,4,7,14,28)\n",
    "\n",
    "### Python code \n"
   ]
  },
  {
   "cell_type": "code",
   "execution_count": 16,
   "id": "0271dc02-1768-49ed-9cc2-6d6bec23827f",
   "metadata": {},
   "outputs": [
    {
     "name": "stdin",
     "output_type": "stream",
     "text": [
      "자연수 입력 :  28\n"
     ]
    },
    {
     "name": "stdout",
     "output_type": "stream",
     "text": [
      "28이하의 모든 완전수 : [6, 28]\n"
     ]
    }
   ],
   "source": [
    "perfect_num = []   # 빈 리스트 생성 \n",
    "\n",
    "n = int(input(\"자연수 입력 : \"))   # 입력받을 자연수 입력\n",
    "for num in range(1, n+1) :   # 입력받은 수 이하의 모든 완전수 출력을 위한 for문 \n",
    "  sum = 0   \n",
    "  for i in range(1, num) :   \n",
    "    if num % i == 0 :    # 약수 구하기 (자기 자신 제외)\n",
    "      sum += i    # 구한 약수를 모두 더하기\n",
    "  if num == sum :    # 자기자신을 제외한 모든 약수를 더하였을 때 자기 자신과 같음을 비교\n",
    "    perfect_num.append(num)   # 같다면 리스트에 저장\n",
    "      \n",
    "print(f\"{n}이하의 모든 완전수 : {perfect_num}\")"
   ]
  }
 ],
 "metadata": {
  "kernelspec": {
   "display_name": "Python 3 (ipykernel)",
   "language": "python",
   "name": "python3"
  },
  "language_info": {
   "codemirror_mode": {
    "name": "ipython",
    "version": 3
   },
   "file_extension": ".py",
   "mimetype": "text/x-python",
   "name": "python",
   "nbconvert_exporter": "python",
   "pygments_lexer": "ipython3",
   "version": "3.12.2"
  }
 },
 "nbformat": 4,
 "nbformat_minor": 5
}
